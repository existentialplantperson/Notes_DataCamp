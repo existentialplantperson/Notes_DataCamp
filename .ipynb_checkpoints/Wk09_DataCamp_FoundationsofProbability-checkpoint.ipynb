{
 "cells": [
  {
   "cell_type": "raw",
   "id": "2e423b4d",
   "metadata": {},
   "source": [
    "Flipping coins - two possible outcomes, binary, called bernoulli trial \n",
    "\n",
    "simulate coin flips\n",
    "from scipy.stats import bernoulli\n",
    "bernoulli.rvs(p=prob. of success, size=#events)\n",
    "sum(bernoulli....) to get total heads\n",
    "\n",
    "follows binomial distribution\n",
    "from scipy.stats import binom\n",
    "binom.rvs(n=events, p=probabilty, size=#of trials)\n",
    "\n",
    "random seed generator\n",
    "from scipy.stats import binom\n",
    "binom.rvs(n=10 , p=0.5 , size=1 , random_state=42\n",
    "OR\n",
    "import numpy as np\n",
    "np.random.seed(42)\n",
    "binom.rvs(n=10, p=0.5, size=1)"
   ]
  }
 ],
 "metadata": {
  "kernelspec": {
   "display_name": "Python 3 (ipykernel)",
   "language": "python",
   "name": "python3"
  },
  "language_info": {
   "codemirror_mode": {
    "name": "ipython",
    "version": 3
   },
   "file_extension": ".py",
   "mimetype": "text/x-python",
   "name": "python",
   "nbconvert_exporter": "python",
   "pygments_lexer": "ipython3",
   "version": "3.9.7"
  }
 },
 "nbformat": 4,
 "nbformat_minor": 5
}
