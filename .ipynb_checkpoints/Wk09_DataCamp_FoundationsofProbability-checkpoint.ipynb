{
 "cells": [
  {
   "cell_type": "raw",
   "id": "2e423b4d",
   "metadata": {},
   "source": [
    "Flipping coins - two possible outcomes, binary, called bernoulli trial \n",
    "\n",
    "simulate coin flips\n",
    "from scipy.stats import bernoulli\n",
    "bernoulli.rvs(p=prob. of success, size=#events)\n",
    "sum(bernoulli....) to get total heads\n",
    "\n",
    "follows binomial distribution\n",
    "from scipy.stats import binom\n",
    "binom.rvs(n=events, p=probabilty, size=#of trials)\n",
    "\n",
    "random seed generator\n",
    "from scipy.stats import binom\n",
    "binom.rvs(n=10 , p=0.5 , size=1 , random_state=42\n",
    "OR\n",
    "import numpy as np\n",
    "np.random.seed(42)\n",
    "binom.rvs(n=10, p=0.5, size=1)"
   ]
  },
  {
   "cell_type": "code",
   "execution_count": null,
   "id": "f6d3b990",
   "metadata": {},
   "outputs": [],
   "source": [
    "# Import the bernoulli object from scipy.stats\n",
    "from scipy.stats import bernoulli\n",
    "\n",
    "# Set the random seed to reproduce the results\n",
    "np.random.seed(42)\n",
    "\n",
    "# Simulate one coin flip with 35% chance of getting heads\n",
    "coin_flip = bernoulli.rvs(p=0.35, size=1)\n",
    "print(coin_flip)\n",
    "\n",
    "# Simulate ten coin flips and get the number of heads, 35% chance of heads\n",
    "ten_coin_flips = bernoulli.rvs(p=0.35, size=10)\n",
    "coin_flips_sum = sum(ten_coin_flips)\n",
    "print(coin_flips_sum)\n",
    "\n",
    "# Simulate ten coin flips and get the number of heads, 50% chance of heads\n",
    "five_coin_flips = bernoulli.rvs(p=0.5, size=5)\n",
    "coin_flips_sum = sum(five_coin_flips)\n",
    "print(coin_flips_sum)\n",
    "\n",
    "# Set the random seed to reproduce the results\n",
    "np.random.seed(42)\n",
    "\n",
    "# Simulate 20 trials of 10 coin flips \n",
    "draws = binom.rvs(n=10, p=0.35, size=20)\n",
    "print(draws)"
   ]
  },
  {
   "cell_type": "markdown",
   "id": "3521f5a1",
   "metadata": {},
   "source": [
    "#### Probability Mass and Distribution Functions"
   ]
  },
  {
   "cell_type": "raw",
   "id": "ec96dba5",
   "metadata": {},
   "source": [
    "probability mass function (pmf)\n",
    "binom.pmf(k=#heads, n=#of flips, p=probability of heads)\n",
    "\n",
    "probability of getting k or fewer heads\n",
    "range of probabilities\n",
    "cumulative distribution function (cdf)\n",
    "binom.cdf(k, n, p)\n",
    "\n",
    "prob. of getting k heads or more \n",
    "1 - binom.cdf(k, n, p)\n",
    "\n",
    "Survival Function - Tail function\n",
    "binom.sf(k, n, p) SAME as 1-binom.cdf"
   ]
  },
  {
   "cell_type": "code",
   "execution_count": null,
   "id": "38c3e8ae",
   "metadata": {},
   "outputs": [],
   "source": []
  }
 ],
 "metadata": {
  "kernelspec": {
   "display_name": "Python 3 (ipykernel)",
   "language": "python",
   "name": "python3"
  },
  "language_info": {
   "codemirror_mode": {
    "name": "ipython",
    "version": 3
   },
   "file_extension": ".py",
   "mimetype": "text/x-python",
   "name": "python",
   "nbconvert_exporter": "python",
   "pygments_lexer": "ipython3",
   "version": "3.9.7"
  }
 },
 "nbformat": 4,
 "nbformat_minor": 5
}
