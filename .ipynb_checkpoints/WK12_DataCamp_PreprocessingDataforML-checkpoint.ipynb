{
 "cells": [
  {
   "cell_type": "markdown",
   "id": "6b218476",
   "metadata": {},
   "source": [
    "# Data Camp - Preprocessing Data for Machine Learning\n",
    "\n",
    "Data preprocessing\n",
    "- Beyond cleaning and exploratory data analysis\n",
    "- prepping data for modeling\n",
    "- python ML modeling requires numerical input\n",
    "\n",
    "Understand data with:\n",
    "- df.head()\n",
    "- df.columns()\n",
    "- df.dtypes()\n",
    "- df.describe()\n",
    "\n",
    "First step in preprocessing-remove missing data\n",
    "- df.dropna() to drop all rows with a missing value\n",
    "- df.drop([1,2,3]) to drop specific rows by index label\n",
    "- df.drop('col label', axis=1) to drop columns\n",
    "- df.dropna(axis=1, thresh=# of null to allow) axis 0 = row, axis 1 = col\n",
    "\n",
    "Filter dataframe based on values\n",
    "- df[df['col'] == x]\n",
    "\n",
    "Got a count of null values in a column then create a df that has those rows removed where the specified col has a null value\n",
    "- df['col'].isnull().sum()\n",
    "- df[df['col].notnull()]\n"
   ]
  },
  {
   "cell_type": "code",
   "execution_count": null,
   "id": "ecb74533",
   "metadata": {},
   "outputs": [],
   "source": [
    "#drop features/columns that have at least 3 missing values.\n",
    "volunteer.dropna(axis=1, thresh=3)\n",
    "\n",
    "# Check how many values are missing in the category_desc column\n",
    "print(volunteer['category_desc'].isnull().sum())\n",
    "\n",
    "# Subset the volunteer dataset by indexing by where category_desc is notnull()\n",
    "volunteer_subset = volunteer[volunteer['category_desc'].notnull()]\n",
    "\n",
    "# Print out the shape of the subset\n",
    "print(volunteer_subset.shape)"
   ]
  },
  {
   "cell_type": "markdown",
   "id": "14be65ff",
   "metadata": {},
   "source": [
    "#### Working with Data Types\n",
    "\n",
    "df.dtypes\n",
    "- most commonly used in pandas are\n",
    "- object - string/mixed\n",
    "- int64 - integer\n",
    "- float64 - float\n",
    "- datetime64 (timedelta) - datetime\n",
    "\n",
    "converting column types\n",
    "- df['col'] = df['col'].astype(\"float\")"
   ]
  },
  {
   "cell_type": "code",
   "execution_count": null,
   "id": "cfcd2435",
   "metadata": {},
   "outputs": [],
   "source": [
    "# Print the head of the hits column\n",
    "print(volunteer[\"hits\"].head())\n",
    "\n",
    "# Convert the hits column to type int\n",
    "volunteer[\"hits\"] = volunteer['hits'].astype('int')\n",
    "\n",
    "# Look at the dtypes of the dataset\n",
    "print(volunteer.dtypes)"
   ]
  },
  {
   "cell_type": "markdown",
   "id": "85ce7ba8",
   "metadata": {},
   "source": [
    "#### Training and Test Sets\n",
    "\n",
    "function splits 75% into training and 25% into testing sets\n",
    "from sklearn.model_selection import train_test_split\n",
    "x_train, x_test, y_train, y_test = train_test_split(x,y)\n",
    "\n",
    "if you have imbalanced classes, stratified sampling, takes into account the distribution of classes in dataset\n",
    "ex: if data set contains 100 samples, 80 class 1, 20 class 2\n",
    "    - we want training set to contain 75 samples, 60 class 1 / 15 class 2\n",
    "    - test set containing 25 samples, 20 class 1, 5 class 2\n",
    "    \n",
    "can use the stratify parameter in train_test_split:\n",
    " - stratify = y\n",
    " - check value_counts\n",
    " \n",
    "Code example below - We know that the distribution of variables in the category_desc column in the volunteer dataset is uneven. If we wanted to train a model to try to predict category_desc, we would want to train the model on a sample of data that is representative of the entire dataset. Stratified sampling is a way to achieve this."
   ]
  },
  {
   "cell_type": "code",
   "execution_count": null,
   "id": "95fdfc73",
   "metadata": {},
   "outputs": [],
   "source": [
    "# Create a data with all columns except category_desc\n",
    "volunteer_X = volunteer.drop(\"category_desc\", axis=1)\n",
    "\n",
    "# Create a category_desc labels dataset\n",
    "volunteer_y = volunteer[[\"category_desc\"]]\n",
    "\n",
    "# Use stratified sampling to split up the dataset according to the volunteer_y dataset\n",
    "X_train, X_test, y_train, y_test = train_test_split(volunteer_X, volunteer_y, stratify=volunteer_y)\n",
    "\n",
    "# Print out the category_desc counts on the training y labels\n",
    "print(y_train[\"category_desc\"].value_counts())"
   ]
  }
 ],
 "metadata": {
  "kernelspec": {
   "display_name": "Python 3 (ipykernel)",
   "language": "python",
   "name": "python3"
  },
  "language_info": {
   "codemirror_mode": {
    "name": "ipython",
    "version": 3
   },
   "file_extension": ".py",
   "mimetype": "text/x-python",
   "name": "python",
   "nbconvert_exporter": "python",
   "pygments_lexer": "ipython3",
   "version": "3.9.7"
  }
 },
 "nbformat": 4,
 "nbformat_minor": 5
}
