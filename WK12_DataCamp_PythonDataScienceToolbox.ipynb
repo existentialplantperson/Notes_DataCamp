{
 "cells": [
  {
   "cell_type": "markdown",
   "id": "d71df909",
   "metadata": {},
   "source": [
    "### Data Camp - Python Data Science Toolbox (Part 1)\n"
   ]
  },
  {
   "cell_type": "code",
   "execution_count": null,
   "id": "7b787383",
   "metadata": {},
   "outputs": [],
   "source": [
    "#defining functions\n",
    "\n",
    "# Define shout with the parameter, word\n",
    "def shout(word):\n",
    "    \"\"\"Print a string with three exclamation marks\"\"\"\n",
    "    # Concatenate the strings: shout_word\n",
    "    shout_word = word + '!!!'\n",
    "\n",
    "    # Print shout_word\n",
    "    print(shout_word)\n",
    "\n",
    "# Call shout with the string 'congratulations'\n",
    "shout('congratulations')\n",
    "\n",
    "\n",
    "\n",
    "# Define shout with the parameter, word\n",
    "def shout(word):\n",
    "    \"\"\"Return a string with three exclamation marks\"\"\"\n",
    "    # Concatenate the strings: shout_word\n",
    "    shout_word = word + '!!!'\n",
    "\n",
    "    # Replace print with return\n",
    "    return(shout_word)\n",
    "\n",
    "# Pass 'congratulations' to shout: yell\n",
    "yell = shout('congratulations')\n",
    "\n",
    "# Print yell\n",
    "print(yell)"
   ]
  },
  {
   "cell_type": "code",
   "execution_count": null,
   "id": "21c0b444",
   "metadata": {},
   "outputs": [],
   "source": [
    "#### Multiple Parameters and Return Values"
   ]
  }
 ],
 "metadata": {
  "kernelspec": {
   "display_name": "Python 3 (ipykernel)",
   "language": "python",
   "name": "python3"
  },
  "language_info": {
   "codemirror_mode": {
    "name": "ipython",
    "version": 3
   },
   "file_extension": ".py",
   "mimetype": "text/x-python",
   "name": "python",
   "nbconvert_exporter": "python",
   "pygments_lexer": "ipython3",
   "version": "3.9.7"
  }
 },
 "nbformat": 4,
 "nbformat_minor": 5
}
