{
 "cells": [
  {
   "cell_type": "markdown",
   "id": "edfee8a2",
   "metadata": {},
   "source": [
    "#### TIme Series Analysis in Python"
   ]
  },
  {
   "cell_type": "raw",
   "id": "dc648d95",
   "metadata": {},
   "source": [
    "change an index to datetime:\n",
    "df.index = pd.to_datetime(df.index)\n",
    "\n",
    "plot with df.plot()\n",
    "\n",
    "join two df:\n",
    "df1.join(df2)\n",
    "\n",
    "compute % change and differences of a time series\n",
    "df['col'].pct_change()\n",
    "df['col'].diff()\n",
    "\n",
    "correlation: \n",
    "df['col'].corr(df['col2']\n",
    "\n",
    "review other Pandas functions: https://datacamp-community-prod.s3.amazonaws.com/fbc502d0-46b2-4e1b-b6b0-5402ff273251"
   ]
  },
  {
   "cell_type": "code",
   "execution_count": null,
   "id": "1657f3a8",
   "metadata": {},
   "outputs": [],
   "source": [
    "# Import pandas and plotting modules\n",
    "import pandas as pd\n",
    "import matplotlib.pyplot as plt\n",
    "\n",
    "# Convert the date index to datetime\n",
    "diet.index = pd.to_datetime(diet.index)\n",
    "\n",
    "# Plot the entire time series diet and show gridlines\n",
    "diet.plot(grid=True)\n",
    "plt.show()\n",
    "\n",
    "# Slice the dataset to keep only 2012\n",
    "diet2012 = diet['2012']\n",
    "\n",
    "# Plot 2012 data\n",
    "diet2012.plot(grid=True)\n",
    "plt.show()"
   ]
  },
  {
   "cell_type": "code",
   "execution_count": null,
   "id": "760b38b0",
   "metadata": {},
   "outputs": [],
   "source": [
    "# Convert the stock index and bond index into sets\n",
    "set_stock_dates = set(stocks.index)\n",
    "set_bond_dates = set(bonds.index)\n",
    "\n",
    "# Take the difference between the sets and print\n",
    "print(set_stock_dates - set_bond_dates)\n",
    "\n",
    "# Merge stocks and bonds DataFrames using join()\n",
    "stocks_and_bonds = stocks.join(bonds, how='inner')"
   ]
  },
  {
   "cell_type": "markdown",
   "id": "df1ab883",
   "metadata": {},
   "source": [
    "#### Correlation of Two Time Series"
   ]
  },
  {
   "cell_type": "raw",
   "id": "828a189f",
   "metadata": {},
   "source": [
    "Can be easy to find correlation wqhere there is actually no relationship.\n",
    "\n",
    "stock - compare returns, not stock levels to correct"
   ]
  },
  {
   "cell_type": "code",
   "execution_count": null,
   "id": "d4e89860",
   "metadata": {},
   "outputs": [],
   "source": [
    "# Compute percent change using pct_change()\n",
    "returns = stocks_and_bonds.pct_change()\n",
    "\n",
    "# Compute correlation using corr()\n",
    "correlation = returns['SP500'].corr(returns['US10Y'])\n",
    "print(\"Correlation of stocks and interest rates: \", correlation)\n",
    "\n",
    "# Make scatter plot\n",
    "plt.scatter(returns['SP500'], returns['US10Y'])\n",
    "plt.show()\n",
    "\n",
    "\n",
    "# Compute correlation of levels\n",
    "correlation1 = levels['DJI'].corr(levels['UFO'])\n",
    "print(\"Correlation of levels: \", correlation1)\n",
    "\n",
    "# Compute correlation of percent changes\n",
    "changes = levels.pct_change()\n",
    "correlation2 = changes['DJI'].corr(changes['UFO'])\n",
    "print(\"Correlation of changes: \", correlation2)\n",
    "\n",
    "# Output\n",
    "# Correlation of levels:  0.9399762210726432\n",
    "# Correlation of changes:  0.06026935462405376"
   ]
  },
  {
   "cell_type": "markdown",
   "id": "62157dfc",
   "metadata": {},
   "source": [
    "#### Simple Linear Regressions"
   ]
  },
  {
   "cell_type": "markdown",
   "id": "05aabb3e",
   "metadata": {},
   "source": [
    "Simple linear regression finds the slope(beta) and the intercept(alpha) of a line that is the best fit between a dependent variable (y) and dependent variable (x) - x and y can be two timeseries  : \n",
    "\n",
    "$ Y_t = \\alpha + \\beta X_t + \\epsilon_t $\n",
    "\n",
    "also known as Ordinary Least Squares (OLS)"
   ]
  },
  {
   "cell_type": "raw",
   "id": "441cdd89",
   "metadata": {},
   "source": [
    "Python packages to perform regressions, note that the placement of x and y varies across packages:\n",
    "import statsmodels.api as sm\n",
    "sm.OLS(y,x).fit()\n",
    "\n",
    "In numpy:\n",
    "np.polyfit(x,y,deg=1)\n",
    "\n",
    "In pandas:\n",
    "pd.ols(y,x)\n",
    "\n",
    "from scipy import stats\n",
    "stats.linregress(x,y)\n",
    "\n",
    "add a column of ones as a dependent right side variabke so that function computes regression coefficient as the intercept of the line\n",
    "df=sm.add_constant()\n",
    "\n",
    "first row of returns has NaNs - use .drpona()\n",
    "\n",
    "run regression and print regression outpus\n",
    "results =  df.OLS(df['col1'],df[['constant','col2']]).fit()\n",
    "print(variable.summary())\n",
    "\n",
    "coefficient = beta\n",
    "intercept can be pulled from results.params[0]\n",
    "slope can be pulled from results.params[1]\n",
    "\n",
    "R-squared and Correlation\n",
    "both measure how well the linear regression line fits the data, \n",
    "the magnitude of the correlation is the square root of R squared\n",
    "sign of the correlation  = + or - poitive or negative\n",
    "\n",
    "ex:\n",
    "R-squared = 0.753\n",
    "slope is positive\n",
    "correlation = + sqrt(0.753) = 0.863  -- can be verified by c omputing the correlation directly"
   ]
  },
  {
   "cell_type": "code",
   "execution_count": null,
   "id": "88f8fc59",
   "metadata": {},
   "outputs": [],
   "source": [
    "# Import the statsmodels module\n",
    "import statsmodels.api as sm\n",
    "\n",
    "# Compute correlation of x and y\n",
    "correlation = x.corr(y)\n",
    "print(\"The correlation between x and y is %4.2f\" %(correlation))\n",
    "\n",
    "# Convert the Series x to a DataFrame and name the column x\n",
    "dfx = pd.DataFrame(x, columns=['x'])\n",
    "\n",
    "# Add a constant to the DataFrame dfx\n",
    "dfx1 = sm.add_constant(dfx)\n",
    "\n",
    "# Regress y on dfx1\n",
    "result = sm.OLS(y, dfx1).fit()\n",
    "\n",
    "# Print out the results and look at the relationship between R-squared and the correlation above\n",
    "print(result.summary())"
   ]
  },
  {
   "cell_type": "markdown",
   "id": "2adfdc52",
   "metadata": {},
   "source": [
    "#### Autocorrelation"
   ]
  },
  {
   "cell_type": "raw",
   "id": "f938559d",
   "metadata": {},
   "source": [
    "autocorrelation - corelation of a single time series with a lagged copy of itself; lag-one correlation also called serial correlation\n",
    "\n",
    "mean reversion - negative aurocorelation\n",
    "momentum/trend following - positive autocorrelation\n",
    "\n",
    "financial markets use autocorrelation trends"
   ]
  },
  {
   "cell_type": "code",
   "execution_count": null,
   "id": "6015eb03",
   "metadata": {},
   "outputs": [],
   "source": [
    "# Convert the daily data to weekly data\n",
    "#The argument how in .resample() has been deprecated.\n",
    "#The new syntax .resample().last() also works.\n",
    "MSFT = MSFT.resample(rule='W', how='last')\n",
    "\n",
    "# Compute the percentage change of prices\n",
    "returns = MSFT.pct_change()\n",
    "\n",
    "# Compute and print the autocorrelation of returns\n",
    "autocorrelation = returns['Adj Close'].autocorr()\n",
    "print(\"The autocorrelation of weekly returns is %4.2f\" %(autocorrelation))\n",
    "\n",
    "# Compute the daily change in interest rates \n",
    "daily_diff = daily_rates.diff()\n",
    "\n",
    "# Compute and print the autocorrelation of daily changes\n",
    "autocorrelation_daily = daily_diff['US10Y'].autocorr()\n",
    "print(\"The autocorrelation of daily interest rate changes is %4.2f\" %(autocorrelation_daily))\n",
    "\n",
    "# Convert the daily data to annual data\n",
    "yearly_rates = daily_rates.resample(rule='A').last()\n",
    "\n",
    "# Repeat above for annual data\n",
    "yearly_diff = yearly_rates.diff()\n",
    "autocorrelation_yearly = yearly_diff['US10Y'].autocorr()\n",
    "print(\"The autocorrelation of annual interest rate changes is %4.2f\" %(autocorrelation_yearly))"
   ]
  },
  {
   "cell_type": "markdown",
   "id": "699b021d",
   "metadata": {},
   "source": [
    "#### Autocorrelation Function"
   ]
  },
  {
   "cell_type": "raw",
   "id": "5c0adc4b",
   "metadata": {},
   "source": [
    "Autocorrelation Fucntion (ACF) - the autocorrelation as a function of the lag\n",
    "\n",
    "from statsmodel.graphics.tsaplots import plot_acf\n",
    "plot_acf(data(series), lags=(number to be plotted) , alpha = (width of confidence interval)\n",
    "\n",
    "alpha example, if alpha = 0.05 there is a 5% chance that is a true autocorrelation is zero, it will fall outside the blue band\n",
    "\n",
    "95% confidence bands are +/- 2/sqrt(N)\n",
    "\n",
    "can also extract numberical values of acf without plotting:\n",
    "from statsmodels.tsa.stattools import acf\n",
    "print(acf(data))"
   ]
  },
  {
   "cell_type": "code",
   "execution_count": null,
   "id": "b152eb8d",
   "metadata": {},
   "outputs": [],
   "source": [
    "# Import the acf module and the plot_acf module from statsmodels\n",
    "from statsmodels.tsa.stattools import acf\n",
    "from statsmodels.graphics.tsaplots import plot_acf\n",
    "\n",
    "# Compute the acf array of HRB\n",
    "acf_array = acf(HRB)\n",
    "print(acf_array)\n",
    "\n",
    "# Plot the acf function\n",
    "plot_acf(HRB, alpha=1)\n",
    "plt.show()\n",
    "\n",
    "\n",
    "# Import the plot_acf module from statsmodels and sqrt from math\n",
    "from statsmodels.graphics.tsaplots import plot_acf\n",
    "from math import sqrt\n",
    "\n",
    "# Compute and print the autocorrelation of MSFT weekly returns\n",
    "autocorrelation = returns['Adj Close'].autocorr()\n",
    "print(\"The autocorrelation of weekly MSFT returns is %4.2f\" %(autocorrelation))\n",
    "\n",
    "# Find the number of observations by taking the length of the returns DataFrame\n",
    "nobs = len(returns)\n",
    "\n",
    "# Compute the approximate confidence interval\n",
    "conf = 1.96/sqrt(nobs)\n",
    "print(\"The approximate confidence interval is +/- %4.2f\" %(conf))\n",
    "\n",
    "# Plot the autocorrelation function with 95% confidence intervals and 20 lags using plot_acf\n",
    "plot_acf(returns, alpha=0.05, lags=20)\n",
    "plt.show()"
   ]
  },
  {
   "cell_type": "markdown",
   "id": "5682137d",
   "metadata": {},
   "source": [
    "#### White Noise"
   ]
  },
  {
   "cell_type": "raw",
   "id": "c547b28b",
   "metadata": {},
   "source": [
    "white noise is a series with constant mean, constant variance, and zero autocorrelation at all lags\n",
    "\n",
    "if data has a normal distribution, then Gaussian White Noise\n",
    "\n",
    "generate white noise with \n",
    "noise = np.random.normal(loc=mean %, scale=std dev %, size=number samples)\n",
    "\n",
    "acf of white noise is zero"
   ]
  },
  {
   "cell_type": "code",
   "execution_count": null,
   "id": "5dc787d0",
   "metadata": {},
   "outputs": [],
   "source": [
    "# Import the plot_acf module from statsmodels\n",
    "from statsmodels.graphics.tsaplots import plot_acf\n",
    "\n",
    "# Simulate white noise returns\n",
    "returns = np.random.normal(loc=0.02, scale=0.05, size=1000)\n",
    "\n",
    "# Print out the mean and standard deviation of returns\n",
    "mean = np.mean(returns)\n",
    "std = np.std(returns)\n",
    "print(\"The mean is %5.3f and the standard deviation is %5.3f\" %(mean,std))\n",
    "\n",
    "# Plot returns series\n",
    "plt.plot(returns)\n",
    "plt.show()\n",
    "\n",
    "# Plot autocorrelation function of white noise returns\n",
    "plot_acf(returns, lags=20)\n",
    "plt.show()"
   ]
  },
  {
   "cell_type": "markdown",
   "id": "d51ecef9",
   "metadata": {},
   "source": [
    "#### Random Walk"
   ]
  },
  {
   "cell_type": "raw",
   "id": "63a0793d",
   "metadata": {},
   "source": [
    "Todays Price = Yesterday's Price + Noise\n",
    "Change in Price is white noise\n",
    "\n",
    "Random Walk with Drift:\n",
    "Prices on average drift by mu \n",
    "Today's price = mu + Yesterday's Price + Noise\n",
    "\n",
    "Stistical Test for Random Walk\n",
    "regress current prices on lag prices, if slope coefficient (beta) is not sig dif from 1 then we CANNOT regect the hypothesis that the series is a random walk\n",
    "if beta is sig les than 1 then we can reject the hypothesis\n",
    "\n",
    "Dickley Fuller test, is beta sig dif than 0\n",
    "Augmented Dickey Fuller test - add more lags on right side of equation\n",
    "\n",
    "import statsmodels.tsa.stattools import adfuller\n",
    "adfuller(x)"
   ]
  }
 ],
 "metadata": {
  "kernelspec": {
   "display_name": "Python 3 (ipykernel)",
   "language": "python",
   "name": "python3"
  },
  "language_info": {
   "codemirror_mode": {
    "name": "ipython",
    "version": 3
   },
   "file_extension": ".py",
   "mimetype": "text/x-python",
   "name": "python",
   "nbconvert_exporter": "python",
   "pygments_lexer": "ipython3",
   "version": "3.9.7"
  }
 },
 "nbformat": 4,
 "nbformat_minor": 5
}
